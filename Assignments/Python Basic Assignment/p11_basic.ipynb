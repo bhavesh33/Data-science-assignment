{
 "cells": [
  {
   "cell_type": "markdown",
   "id": "a6424135",
   "metadata": {},
   "source": [
    "# Python Basic Assignment - 11"
   ]
  },
  {
   "cell_type": "markdown",
   "id": "d5b24159",
   "metadata": {},
   "source": [
    "#### 1.Create an assert statement that throws an AssertionError if the variable spam is a negative integer.\n",
    "#### Ans:\n",
    "- assert spam > 0, \"Negative not allowed!\"\n"
   ]
  },
  {
   "cell_type": "markdown",
   "id": "6f3ea70f",
   "metadata": {},
   "source": [
    "#### 2.Write an assert statement that triggers an AssertionError if the variables eggs and bacon contain strings that are the same as each other, even if their cases are different (that is, 'hello' and 'hello' are considered the same, and 'goodbye' and 'GOODbye' are also considered the same).\n",
    "\n",
    "#### Ans:\n",
    "- assert eggs.lower()!=bacon.lower(), \"eggs and bacon shouldn't be same!\"\n"
   ]
  },
  {
   "cell_type": "markdown",
   "id": "730126c8",
   "metadata": {},
   "source": [
    "#### 3.Create an assert statement that throws an AssertionError every time.\n",
    "\n",
    "#### Ans:\n",
    "- assert False"
   ]
  },
  {
   "cell_type": "markdown",
   "id": "9d9ee6b8",
   "metadata": {},
   "source": [
    "#### 4.What are the two lines that must be present in your software in order to call logging.debug()?\n",
    "\n",
    "#### Ans:\n",
    "import logging\n",
    "\n",
    "logging.basicConfig(fiename, level=logging.DEBUG)\n"
   ]
  },
  {
   "cell_type": "markdown",
   "id": "7c14f680",
   "metadata": {},
   "source": [
    "#### 5.What are the two lines that your program must have in order to have logging.debug() send a logging message to a file named programLog.txt?\n",
    "\n",
    "#### Ans:\n",
    "import logging\n",
    "\n",
    "logging.basicConfig(fiename, level=logging.DEBUG)\n"
   ]
  },
  {
   "cell_type": "markdown",
   "id": "9fdaec61",
   "metadata": {},
   "source": [
    "#### 6.What are the five levels of logging?\n",
    "\n",
    "#### Ans:\n",
    "logging.error()\n",
    "\n",
    "logging.warning()\n",
    "\n",
    "logging.info()\n",
    "\n",
    "logging.critical()\n",
    "\n",
    "logging.debug()\n"
   ]
  },
  {
   "cell_type": "markdown",
   "id": "516f57a7",
   "metadata": {},
   "source": [
    "#### 7.What line of code would you add to your software to disable all logging messages?\n",
    "\n",
    "#### Ans:\n",
    "logging.disable(level)"
   ]
  },
  {
   "cell_type": "markdown",
   "id": "0abb0f9f",
   "metadata": {},
   "source": [
    "#### 8.Why is using logging messages better than using print() to display the same message?\n",
    "\n",
    "#### Ans:\n",
    "- It helps to see where and when a logging call is being made from\n",
    "\n",
    "- we can differentiate logging based on severity\n",
    "\n",
    "- print does not have any of them\n"
   ]
  },
  {
   "cell_type": "markdown",
   "id": "16dcac8b",
   "metadata": {},
   "source": [
    "#### 9.What are the differences between the Step Over, Step In, and Step Out buttons in the debugger?\n",
    "\n",
    "#### Ans:\n",
    "- Step In will dig into method calls.\n",
    "- Step Over will just execute the line and go to the next line.\n",
    "- Step Out Steps out of the current method and takes you to the caller method.\n"
   ]
  },
  {
   "cell_type": "markdown",
   "id": "4f93d1b5",
   "metadata": {},
   "source": [
    "#### 10.After you click Continue, when will the debugger stop ?\n",
    "\n",
    "#### Ans:\n",
    "- when it has reached the end of a program or a breakpoint"
   ]
  },
  {
   "cell_type": "markdown",
   "id": "d0a1fa0f",
   "metadata": {},
   "source": [
    "#### 11.What is the concept of a breakpoint?\n",
    "#### Ans:\n",
    "- An intentional stopping point or pause put into program for debugging purpose."
   ]
  }
 ],
 "metadata": {
  "kernelspec": {
   "display_name": "Python 3 (ipykernel)",
   "language": "python",
   "name": "python3"
  },
  "language_info": {
   "codemirror_mode": {
    "name": "ipython",
    "version": 3
   },
   "file_extension": ".py",
   "mimetype": "text/x-python",
   "name": "python",
   "nbconvert_exporter": "python",
   "pygments_lexer": "ipython3",
   "version": "3.9.7"
  }
 },
 "nbformat": 4,
 "nbformat_minor": 5
}
