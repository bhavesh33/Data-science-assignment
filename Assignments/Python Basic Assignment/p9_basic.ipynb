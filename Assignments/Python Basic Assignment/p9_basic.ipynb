{
 "cells": [
  {
   "cell_type": "markdown",
   "id": "f77b500e",
   "metadata": {},
   "source": [
    "# Python Basic Assignment - 9"
   ]
  },
  {
   "cell_type": "markdown",
   "id": "b30b444d",
   "metadata": {},
   "source": [
    "#### 1. To what does a relative path refer?\n",
    "\n",
    "- Relative paths are relative to the current working directory. When using relative path, we need to provide the absolute/complete path of file from the root directory, instead we can give the partial/relative path to indicate the file location."
   ]
  },
  {
   "cell_type": "markdown",
   "id": "1f901b4a",
   "metadata": {},
   "source": [
    "#### 2. What does an absolute path start with your operating system?\n",
    "\n",
    "- I am using Windows Operating System with Hard drive, so my absolute path starts with C:\\"
   ]
  },
  {
   "cell_type": "markdown",
   "id": "73b74195",
   "metadata": {},
   "source": [
    "#### 3. What do the functions os.getcwd() and os.chdir() do?\n",
    "\n",
    "- os.getcwd() returns you the current working directory path\n",
    "- os.chdir() is used to change the current working directory while running the program"
   ]
  },
  {
   "cell_type": "markdown",
   "id": "c57d0ba8",
   "metadata": {},
   "source": [
    "#### 4. What are the . and .. folders?\n",
    "\n",
    "- . single dot means the current folder\n",
    "- .. double dot means the parent folder"
   ]
  },
  {
   "cell_type": "markdown",
   "id": "5e640c80",
   "metadata": {},
   "source": [
    "#### 5. In C:\\bacon\\eggs\\spam.txt, which part is the dir name, and which part is the base name?\n",
    "\n",
    "- C:\\bacon\\eggs is the dir name\n",
    "- spam.txt is the base name"
   ]
  },
  {
   "cell_type": "markdown",
   "id": "63ac359b",
   "metadata": {},
   "source": [
    "#### 6. What are the three “mode” arguments that can be passed to the open() function?\n",
    "\n",
    "- The three mode arguments that can be passed to the open() function are:\n",
    "\n",
    "- 'r' for read mode\n",
    "- 'w' for write mode\n",
    "- 'a' for append mode."
   ]
  },
  {
   "cell_type": "markdown",
   "id": "908b93e0",
   "metadata": {},
   "source": [
    "#### 7. What happens if an existing file is opened in write mode?\n",
    "\n",
    "- If an existing file is opened in write mode, then all the existing content from the file is erased and the new content will be added.\n",
    "- This might result in loss of data if you wanted to have both existing and new data to existing in the file"
   ]
  },
  {
   "cell_type": "markdown",
   "id": "57365564",
   "metadata": {},
   "source": [
    "#### 8. How do you tell the difference between read() and readlines()?\n",
    "\n",
    "- The read() method returns the file’s entire contents as a single string value.\n",
    "- The readlines() method returns a list of strings, where each string is a line from the file’s contents."
   ]
  },
  {
   "cell_type": "markdown",
   "id": "5b37eeec",
   "metadata": {},
   "source": [
    "#### 9. What data structure does a shelf value resemble?\n",
    "\n",
    "- A shelf value resembles a dictionary value; it has keys and values, along with keys() and values() methods that work similarly to the dictionary methods of the same names."
   ]
  }
 ],
 "metadata": {
  "kernelspec": {
   "display_name": "Python 3 (ipykernel)",
   "language": "python",
   "name": "python3"
  },
  "language_info": {
   "codemirror_mode": {
    "name": "ipython",
    "version": 3
   },
   "file_extension": ".py",
   "mimetype": "text/x-python",
   "name": "python",
   "nbconvert_exporter": "python",
   "pygments_lexer": "ipython3",
   "version": "3.9.7"
  }
 },
 "nbformat": 4,
 "nbformat_minor": 5
}
