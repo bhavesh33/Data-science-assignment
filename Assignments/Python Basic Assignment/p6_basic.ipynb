{
 "cells": [
  {
   "cell_type": "markdown",
   "id": "2964d0e2",
   "metadata": {},
   "source": [
    "# Python Basic Assignment - 6"
   ]
  },
  {
   "cell_type": "markdown",
   "id": "c7175b97",
   "metadata": {},
   "source": [
    "#### 1. What are escape characters, and how do you use them?\n",
    "- In Python strings, the backslash(\\) is a special character, also called the \"escape\" character. It is used in representing certain whitespace characters: \"\\t\" is a tab, \"\\n\" is a newline, and \"\\r\" is a carriage return\n",
    "- prefixing a special character with(\\) turns it into an ordinary character. This is called \"escaping\". For example, \" \\\\' \" is the single quote character. 'It\\'s Sunday' therefore is a valid string and equivalent to \"It's Sunday\"."
   ]
  },
  {
   "cell_type": "markdown",
   "id": "365cb4ee",
   "metadata": {},
   "source": [
    "#### 2. What do the escape characters n and t stand for?\n",
    "- \"\\t\" is for tab space \n",
    "- \"\\n\" is for a newline"
   ]
  },
  {
   "cell_type": "markdown",
   "id": "62044917",
   "metadata": {},
   "source": [
    "#### 3. What is the way to include backslash characters in a string?\n",
    "- We need to append backslash with another backslash to include backslash in string\n",
    "- Example is given below :"
   ]
  },
  {
   "cell_type": "code",
   "execution_count": 1,
   "id": "d564bedd",
   "metadata": {},
   "outputs": [
    {
     "name": "stdout",
     "output_type": "stream",
     "text": [
      "it's a back slash \\ in a string\n",
      "it's a back slash \\ in a string\n",
      "it's a back slash \\\\ in a string\n"
     ]
    }
   ],
   "source": [
    "print(\"it's a back slash \\ in a string\")\n",
    "print(\"it's a back slash \\\\ in a string\")\n",
    "print(\"it's a back slash \\\\\\ in a string\")"
   ]
  },
  {
   "cell_type": "markdown",
   "id": "81c8ff95",
   "metadata": {},
   "source": [
    "#### 4. The string \"Howl's Moving Castle\" is a correct value. Why isn't the single quote character in the word Howl's not escaped a problem?\n",
    "- The string value \"Howl's Moving Castle\" is a valid string because The single quote in \"Howl's is fine\" because you've used double quotes to mark the beginning and end of the string."
   ]
  },
  {
   "cell_type": "markdown",
   "id": "e2623ef2",
   "metadata": {},
   "source": [
    "#### 5. How do you write a string of newlines if you don't want to use the n character?\n",
    "- we can use Pythons multi line strings that done using triple quotes"
   ]
  },
  {
   "cell_type": "code",
   "execution_count": 2,
   "id": "2ec7bb5d",
   "metadata": {},
   "outputs": [],
   "source": [
    "#Example:\n",
    "string_multiline = \"\"\"This is my\n",
    "multi line\n",
    "string by\n",
    "name string_multiline\"\"\""
   ]
  },
  {
   "cell_type": "code",
   "execution_count": 3,
   "id": "f8396306",
   "metadata": {},
   "outputs": [
    {
     "data": {
      "text/plain": [
       "'This is my\\nmulti line\\nstring by\\nname string_multiline'"
      ]
     },
     "execution_count": 3,
     "metadata": {},
     "output_type": "execute_result"
    }
   ],
   "source": [
    "string_multiline"
   ]
  },
  {
   "cell_type": "markdown",
   "id": "d5b5f3dc",
   "metadata": {},
   "source": [
    "#### 6. What are the values of the given expressions?\n",
    "\n",
    "- 'Hello, world!'[1] 'e'\n",
    "- 'Hello, world!'[0:5] 'Hello'\n",
    "- 'Hello, world!'[:5] 'Hello'\n",
    "- 'Hello, world!'[3:] 'lo, world!'"
   ]
  },
  {
   "cell_type": "code",
   "execution_count": 4,
   "id": "7db56cb6",
   "metadata": {},
   "outputs": [
    {
     "data": {
      "text/plain": [
       "'e'"
      ]
     },
     "execution_count": 4,
     "metadata": {},
     "output_type": "execute_result"
    }
   ],
   "source": [
    "'Hello, world!'[1]"
   ]
  },
  {
   "cell_type": "code",
   "execution_count": 5,
   "id": "e48232f4",
   "metadata": {},
   "outputs": [
    {
     "data": {
      "text/plain": [
       "'Hello'"
      ]
     },
     "execution_count": 5,
     "metadata": {},
     "output_type": "execute_result"
    }
   ],
   "source": [
    "'Hello, world!'[0:5]"
   ]
  },
  {
   "cell_type": "code",
   "execution_count": 6,
   "id": "a4b19712",
   "metadata": {},
   "outputs": [
    {
     "data": {
      "text/plain": [
       "'Hello'"
      ]
     },
     "execution_count": 6,
     "metadata": {},
     "output_type": "execute_result"
    }
   ],
   "source": [
    "'Hello, world!'[:5]"
   ]
  },
  {
   "cell_type": "code",
   "execution_count": 7,
   "id": "9d324548",
   "metadata": {},
   "outputs": [
    {
     "data": {
      "text/plain": [
       "'lo, world!'"
      ]
     },
     "execution_count": 7,
     "metadata": {},
     "output_type": "execute_result"
    }
   ],
   "source": [
    "'Hello, world!'[3:]"
   ]
  },
  {
   "cell_type": "markdown",
   "id": "e1df3309",
   "metadata": {},
   "source": [
    "#### 7. What are the values of the following expressions?\n",
    "- 'Hello'.upper() -> 'HELLO'\n",
    "- 'Hello'.upper().isupper() -> True\n",
    "- 'Hello'.upper().lower() -> 'hello'"
   ]
  },
  {
   "cell_type": "code",
   "execution_count": 8,
   "id": "4b959d75",
   "metadata": {},
   "outputs": [
    {
     "data": {
      "text/plain": [
       "'HELLO'"
      ]
     },
     "execution_count": 8,
     "metadata": {},
     "output_type": "execute_result"
    }
   ],
   "source": [
    "'Hello'.upper() "
   ]
  },
  {
   "cell_type": "code",
   "execution_count": 9,
   "id": "5a68c5a9",
   "metadata": {},
   "outputs": [
    {
     "data": {
      "text/plain": [
       "True"
      ]
     },
     "execution_count": 9,
     "metadata": {},
     "output_type": "execute_result"
    }
   ],
   "source": [
    "'Hello'.upper().isupper()"
   ]
  },
  {
   "cell_type": "code",
   "execution_count": 10,
   "id": "a30f26ee",
   "metadata": {},
   "outputs": [
    {
     "data": {
      "text/plain": [
       "'hello'"
      ]
     },
     "execution_count": 10,
     "metadata": {},
     "output_type": "execute_result"
    }
   ],
   "source": [
    "'Hello'.upper().lower()"
   ]
  },
  {
   "cell_type": "markdown",
   "id": "7018613a",
   "metadata": {},
   "source": [
    "#### 8. What are the values of the following expressions?\n",
    "- 'Remember, remember, the fifth of July.'.split() -> ['Remember,', 'remember,', 'the', 'fifth', 'of', 'July.']\n",
    "\n",
    "- '-'.join('There can only one.'.split()) -> 'There-can-only-one.'"
   ]
  },
  {
   "cell_type": "code",
   "execution_count": 11,
   "id": "62a2dcaa",
   "metadata": {},
   "outputs": [
    {
     "data": {
      "text/plain": [
       "['Remember,', 'remember,', 'the', 'fifth', 'of', 'July.']"
      ]
     },
     "execution_count": 11,
     "metadata": {},
     "output_type": "execute_result"
    }
   ],
   "source": [
    "'Remember, remember, the fifth of July.'.split()"
   ]
  },
  {
   "cell_type": "code",
   "execution_count": 12,
   "id": "8703b248",
   "metadata": {},
   "outputs": [
    {
     "data": {
      "text/plain": [
       "'There-can-only-one.'"
      ]
     },
     "execution_count": 12,
     "metadata": {},
     "output_type": "execute_result"
    }
   ],
   "source": [
    "'-'.join('There can only one.'.split())"
   ]
  },
  {
   "cell_type": "markdown",
   "id": "79986254",
   "metadata": {},
   "source": [
    "#### 9. What are the methods for right-justifying, left-justifying, and centering a string?"
   ]
  },
  {
   "cell_type": "code",
   "execution_count": 16,
   "id": "aadcc401",
   "metadata": {},
   "outputs": [
    {
     "data": {
      "text/plain": [
       "'Data analyst;;;;;;;'"
      ]
     },
     "execution_count": 16,
     "metadata": {},
     "output_type": "execute_result"
    }
   ],
   "source": [
    "# left justified\n",
    "str1 =\"Data analyst\"\n",
    "str1.ljust(19,\";\")"
   ]
  },
  {
   "cell_type": "code",
   "execution_count": 17,
   "id": "e550d9ac",
   "metadata": {},
   "outputs": [
    {
     "data": {
      "text/plain": [
       "'----------Data analyst'"
      ]
     },
     "execution_count": 17,
     "metadata": {},
     "output_type": "execute_result"
    }
   ],
   "source": [
    "# right justified\n",
    "str1 =\"Data analyst\"\n",
    "str1.rjust(22,\"-\")"
   ]
  },
  {
   "cell_type": "code",
   "execution_count": 18,
   "id": "6a45b54c",
   "metadata": {},
   "outputs": [
    {
     "data": {
      "text/plain": [
       "'*******Center*******'"
      ]
     },
     "execution_count": 18,
     "metadata": {},
     "output_type": "execute_result"
    }
   ],
   "source": [
    "# center justified\n",
    "str1 =\"Center\"\n",
    "str1.center(20,'*')"
   ]
  },
  {
   "cell_type": "markdown",
   "id": "4845ab69",
   "metadata": {},
   "source": [
    "#### 10. What is the best way to remove whitespace characters from the start or end?\n",
    "- lstrip() -> removes white spaces from left of the string\n",
    "- rstrip() -> removes whitespaces from right of the string"
   ]
  },
  {
   "cell_type": "code",
   "execution_count": 19,
   "id": "4a64b48d",
   "metadata": {},
   "outputs": [
    {
     "name": "stdout",
     "output_type": "stream",
     "text": [
      "                    Hey data         \n",
      "Hey data         \n"
     ]
    }
   ],
   "source": [
    "str1 = \"                    Hey data         \"\n",
    "print(str1)\n",
    "print(str1.lstrip())"
   ]
  },
  {
   "cell_type": "code",
   "execution_count": 20,
   "id": "b93682c3",
   "metadata": {},
   "outputs": [
    {
     "name": "stdout",
     "output_type": "stream",
     "text": [
      "Hey data                \n",
      "Hey data\n"
     ]
    }
   ],
   "source": [
    "str1 = \"Hey data                \"\n",
    "print(str1)\n",
    "print(str1.rstrip())"
   ]
  }
 ],
 "metadata": {
  "kernelspec": {
   "display_name": "Python 3 (ipykernel)",
   "language": "python",
   "name": "python3"
  },
  "language_info": {
   "codemirror_mode": {
    "name": "ipython",
    "version": 3
   },
   "file_extension": ".py",
   "mimetype": "text/x-python",
   "name": "python",
   "nbconvert_exporter": "python",
   "pygments_lexer": "ipython3",
   "version": "3.9.7"
  }
 },
 "nbformat": 4,
 "nbformat_minor": 5
}
