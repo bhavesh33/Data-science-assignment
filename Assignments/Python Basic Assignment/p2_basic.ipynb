{
 "cells": [
  {
   "cell_type": "markdown",
   "id": "f89f7d28",
   "metadata": {},
   "source": [
    "# Python Basic Assignment - 2"
   ]
  },
  {
   "cell_type": "markdown",
   "id": "c48e2828",
   "metadata": {},
   "source": [
    "#### 1.What are the two values of the Boolean data type? How do you write them?\n",
    " Ans:\n",
    "There are 2 values of Boolean Data Type\n",
    "1. True 2. False\n",
    "\n",
    "Syntax: True, False"
   ]
  },
  {
   "cell_type": "code",
   "execution_count": 2,
   "id": "4d5492da",
   "metadata": {},
   "outputs": [
    {
     "name": "stdout",
     "output_type": "stream",
     "text": [
      "a= True and b= False\n"
     ]
    }
   ],
   "source": [
    "a = True\n",
    "b = False\n",
    "print(\"a=\",a,\"and b=\",b)"
   ]
  },
  {
   "cell_type": "markdown",
   "id": "3c6ff523",
   "metadata": {},
   "source": [
    "#### 2.What are the three different types of Boolean operators?\n",
    "\n",
    "Ans:\n",
    "Three different types of Boolean operators given below:\n",
    "1. AND\n",
    "2. OR\n",
    "3. NOT"
   ]
  },
  {
   "cell_type": "markdown",
   "id": "3448f425",
   "metadata": {},
   "source": [
    "#### 3. Make a list of each Boolean operator's truth tables <br> (i.e. every possible combination of Boolean values for the operator and what it evaluate ).<br><br>Ans: "
   ]
  },
  {
   "cell_type": "code",
   "execution_count": 3,
   "id": "519e7a7d",
   "metadata": {},
   "outputs": [
    {
     "data": {
      "text/plain": [
       "[0, 0, 0, 1]"
      ]
     },
     "execution_count": 3,
     "metadata": {},
     "output_type": "execute_result"
    }
   ],
   "source": [
    "list_1 = [0 and 0,0 and 1,1 and 0,1 and 1]\n",
    "list_1"
   ]
  },
  {
   "cell_type": "code",
   "execution_count": 4,
   "id": "2f5c1316",
   "metadata": {},
   "outputs": [
    {
     "data": {
      "text/plain": [
       "[0, 1, 1, 1]"
      ]
     },
     "execution_count": 4,
     "metadata": {},
     "output_type": "execute_result"
    }
   ],
   "source": [
    "list_2 = [0 or 0,0 or 1,1 or 0,1 or 1]\n",
    "list_2"
   ]
  },
  {
   "cell_type": "code",
   "execution_count": 5,
   "id": "f05da9f9",
   "metadata": {},
   "outputs": [
    {
     "data": {
      "text/plain": [
       "[True, False]"
      ]
     },
     "execution_count": 5,
     "metadata": {},
     "output_type": "execute_result"
    }
   ],
   "source": [
    "list_3 = [not 0,not 1]\n",
    "list_3"
   ]
  },
  {
   "cell_type": "markdown",
   "id": "50360512",
   "metadata": {},
   "source": [
    "#### 4. What are the values of the following expressions?\n",
    "    (5 > 4) and (3 == 5)\n",
    "    not (5 > 4)\n",
    "    (5 > 4) or (3 == 5)\n",
    "    not ((5 > 4) or (3 == 5))\n",
    "    (True and True) and (True == False)\n",
    "    (not False) or (not True)"
   ]
  },
  {
   "cell_type": "markdown",
   "id": "97566968",
   "metadata": {},
   "source": [
    "##### Answer: \n",
    "    (5 > 4) and (3 == 5)                   ==  False\n",
    "    not (5 > 4)                            ==  False\n",
    "    (5 > 4) or (3 == 5)                    ==  True\n",
    "    not ((5 > 4) or (3 == 5))              ==  False \n",
    "    (True and True) and (True == False)    ==  False\n",
    "    (not False) or (not True)              ==  True"
   ]
  },
  {
   "cell_type": "code",
   "execution_count": 6,
   "id": "b81ce4fe",
   "metadata": {},
   "outputs": [
    {
     "name": "stdout",
     "output_type": "stream",
     "text": [
      "False False True False False True\n"
     ]
    }
   ],
   "source": [
    "    print((5 > 4) and (3 == 5),\n",
    "    not (5 > 4),\n",
    "    (5 > 4) or (3 == 5),\n",
    "    not ((5 > 4) or (3 == 5)),\n",
    "    (True and True) and (True == False),\n",
    "    (not False) or (not True))"
   ]
  },
  {
   "cell_type": "markdown",
   "id": "2eeb8c8d",
   "metadata": {},
   "source": [
    "#### 5. What are the six comparison operators?\n",
    "\n",
    "##### Answer:\n",
    "1. ==  : is equal to\n",
    "2. !=  : is not equal to\n",
    "3. \\>   : is greater than\n",
    "4. \\>=  : is greater than or equal to\n",
    "5. <   : is less than\n",
    "6. <=  : is less than or equal to"
   ]
  },
  {
   "cell_type": "markdown",
   "id": "699852bb",
   "metadata": {},
   "source": [
    "#### 6. How do you tell the difference between the equal to and assignment operators?Describe a condition and when you would use one.\n",
    "\n",
    "##### ans:\n",
    "- ' = '  : Single equals is used for assignment operation\n",
    "- ' == ' : Double equals is used to equal to condition check.\n",
    "<br>\n",
    "- When we want to assign value (E.g a = 3) then we use the assignment operator. \n",
    "- When we want to check some condition (E.g - 100 == 10) then we use the equal to check condition check operator."
   ]
  },
  {
   "cell_type": "markdown",
   "id": "afab4c51",
   "metadata": {},
   "source": [
    "#### 7. Identify the three blocks in this code:\n",
    "spam = 0 <br>\n",
    "if spam == 10: <br>\n",
    "print('eggs')<br>\n",
    "if spam > 5:<br>\n",
    "print('bacon')<br>\n",
    "else:<br>\n",
    "print('ham')<br>\n",
    "print('spam')<br>\n",
    "print('spam')\n",
    "\n",
    "#### Ans:"
   ]
  },
  {
   "cell_type": "code",
   "execution_count": 7,
   "id": "470a1f32",
   "metadata": {},
   "outputs": [
    {
     "name": "stdout",
     "output_type": "stream",
     "text": [
      "ham\n",
      "spam\n",
      "spam\n"
     ]
    }
   ],
   "source": [
    "spam = 0\n",
    "\n",
    "if spam == 10:  ## Block 1\n",
    "    print('eggs')\n",
    "    \n",
    "if spam > 5:    ## Block 2\n",
    "    print('bacon')\n",
    "else:           ## Block 3\n",
    "    print('ham')\n",
    "    \n",
    "print('spam')\n",
    "print('spam')"
   ]
  },
  {
   "cell_type": "markdown",
   "id": "9ba0470f",
   "metadata": {},
   "source": [
    "#### 8. Write code that prints Hello if 1 is stored in spam, prints Howdy if 2 is stored in spam, and prints Greetings! if anything else is stored in spam.\n",
    "\n",
    "\n",
    "#### Code:"
   ]
  },
  {
   "cell_type": "code",
   "execution_count": 8,
   "id": "ce4131ed",
   "metadata": {},
   "outputs": [
    {
     "name": "stdout",
     "output_type": "stream",
     "text": [
      "Hello\n"
     ]
    }
   ],
   "source": [
    "spam = 1\n",
    "\n",
    "if spam == 1:\n",
    "    print('Hello')\n",
    "elif spam == 2:\n",
    "    print('Howdy')\n",
    "else:\n",
    "    print('Greetings!')"
   ]
  },
  {
   "cell_type": "markdown",
   "id": "466b0f7d",
   "metadata": {},
   "source": [
    "#### 9.If your programme is stuck in an endless loop, what keys you’ll press?\n",
    "\n",
    "#### ans:\n",
    "1. Press Ctrl + C on the command line."
   ]
  },
  {
   "cell_type": "markdown",
   "id": "a03cbc24",
   "metadata": {},
   "source": [
    "#### 10. How can you tell the difference between break and continue?\n",
    "##### ans:\n",
    "-  The difference between break and continue statement is that when break keyword terminates the execution of the current loop and passes the control over the next loop or main body, whereas continue keyword is skips the current iteration and executes the very next iteration in the loop."
   ]
  },
  {
   "cell_type": "markdown",
   "id": "50a63146",
   "metadata": {},
   "source": [
    "#### 11. In a for loop, what is the difference between range(10), range(0, 10), and range(0, 10, 1)?\n",
    "#### ans:\n",
    "\n",
    "There is no difference "
   ]
  },
  {
   "cell_type": "code",
   "execution_count": 15,
   "id": "0e744dad",
   "metadata": {},
   "outputs": [
    {
     "name": "stdout",
     "output_type": "stream",
     "text": [
      "0\n",
      "1\n",
      "2\n",
      "3\n",
      "4\n",
      "5\n",
      "6\n",
      "7\n",
      "8\n",
      "9\n"
     ]
    }
   ],
   "source": [
    "for i in range(10):\n",
    "    print(i)"
   ]
  },
  {
   "cell_type": "code",
   "execution_count": 16,
   "id": "2fe6b524",
   "metadata": {},
   "outputs": [
    {
     "name": "stdout",
     "output_type": "stream",
     "text": [
      "0\n",
      "1\n",
      "2\n",
      "3\n",
      "4\n",
      "5\n",
      "6\n",
      "7\n",
      "8\n",
      "9\n"
     ]
    }
   ],
   "source": [
    "for i in range(0,10):\n",
    "    print(i)"
   ]
  },
  {
   "cell_type": "code",
   "execution_count": 17,
   "id": "b29b8935",
   "metadata": {},
   "outputs": [
    {
     "name": "stdout",
     "output_type": "stream",
     "text": [
      "0\n",
      "1\n",
      "2\n",
      "3\n",
      "4\n",
      "5\n",
      "6\n",
      "7\n",
      "8\n",
      "9\n"
     ]
    }
   ],
   "source": [
    "for i in range(0,10,1):\n",
    "    print(i)"
   ]
  },
  {
   "cell_type": "markdown",
   "id": "0e0ec4de",
   "metadata": {},
   "source": [
    "#### 12. Write a short program that prints the numbers 1 to 10 using a for loop. Then write an equivalent program that prints the numbers 1 to 10 using a while loop.\n",
    "\n",
    "#### Code:"
   ]
  },
  {
   "cell_type": "code",
   "execution_count": 2,
   "id": "8888645a",
   "metadata": {},
   "outputs": [
    {
     "name": "stdout",
     "output_type": "stream",
     "text": [
      "1\n",
      "2\n",
      "3\n",
      "4\n",
      "5\n",
      "6\n",
      "7\n",
      "8\n",
      "9\n",
      "10\n"
     ]
    }
   ],
   "source": [
    "#### using for loop\n",
    "for i in range(1,11):\n",
    "    print(i)"
   ]
  },
  {
   "cell_type": "code",
   "execution_count": 3,
   "id": "b1bb03a6",
   "metadata": {},
   "outputs": [
    {
     "name": "stdout",
     "output_type": "stream",
     "text": [
      "1\n",
      "2\n",
      "3\n",
      "4\n",
      "5\n",
      "6\n",
      "7\n",
      "8\n",
      "9\n",
      "10\n"
     ]
    }
   ],
   "source": [
    "#### using while loop\n",
    "i = 1\n",
    "while i < 11:\n",
    "    print(i)\n",
    "    i += 1"
   ]
  },
  {
   "cell_type": "markdown",
   "id": "0cf8d3c3",
   "metadata": {},
   "source": [
    "#### 13. If you had a function named bacon() inside a module named spam, how would you call it after importing spam?\n",
    "\n",
    "##### ans:\n",
    "\n",
    "import spam<br>\n",
    "spam.bacon()"
   ]
  }
 ],
 "metadata": {
  "kernelspec": {
   "display_name": "Python 3 (ipykernel)",
   "language": "python",
   "name": "python3"
  },
  "language_info": {
   "codemirror_mode": {
    "name": "ipython",
    "version": 3
   },
   "file_extension": ".py",
   "mimetype": "text/x-python",
   "name": "python",
   "nbconvert_exporter": "python",
   "pygments_lexer": "ipython3",
   "version": "3.9.7"
  }
 },
 "nbformat": 4,
 "nbformat_minor": 5
}
