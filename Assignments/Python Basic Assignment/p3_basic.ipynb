{
 "cells": [
  {
   "cell_type": "markdown",
   "id": "bb27783e",
   "metadata": {},
   "source": [
    "# Python Basic Assignment - 3"
   ]
  },
  {
   "cell_type": "markdown",
   "id": "6976b6b0",
   "metadata": {},
   "source": [
    "#### 1. Why are functions advantageous to have in your programs?\n",
    "#### Ans:\n",
    "1.Reduce the need of duplicate code<br>\n",
    "2.Increase code resuability<br>\n",
    "3.Easier to read and update"
   ]
  },
  {
   "cell_type": "markdown",
   "id": "f30dbda9",
   "metadata": {},
   "source": [
    "##### 2. When does the code in a function run: when it's specified or when it's called?\n",
    "#### Ans:\n",
    "\n",
    "- The function run(or execute) is called, When function is called the control flow which go to first line of code present inside the function."
   ]
  },
  {
   "cell_type": "markdown",
   "id": "7379ff3a",
   "metadata": {},
   "source": [
    "#### 3. What statement creates a function?\n",
    "#### Ans:\n",
    "\n",
    "def(keyword) followed by function_name then parentheses.<br>\n",
    "def function_name():"
   ]
  },
  {
   "cell_type": "code",
   "execution_count": 1,
   "id": "ee15c0cb",
   "metadata": {},
   "outputs": [],
   "source": [
    "def function():\n",
    "    pass"
   ]
  },
  {
   "cell_type": "markdown",
   "id": "465e5344",
   "metadata": {},
   "source": [
    "#### 4. What is the difference between a function and a function call?\n",
    "#### Ans:\n",
    "- Function: Function is a set of codes which produce some result. Function is useless unless it is called.\n",
    "- Function Call: Function call is used to invoke or execute set of codes present inside the function."
   ]
  },
  {
   "cell_type": "code",
   "execution_count": 2,
   "id": "80d91076",
   "metadata": {},
   "outputs": [
    {
     "data": {
      "text/plain": [
       "'Welcome to function'"
      ]
     },
     "execution_count": 2,
     "metadata": {},
     "output_type": "execute_result"
    }
   ],
   "source": [
    "def func():            #Function   \n",
    "    return \"Welcome to function\"\n",
    "\n",
    "func()                 #Function call           "
   ]
  },
  {
   "cell_type": "markdown",
   "id": "029e2735",
   "metadata": {},
   "source": [
    "#### 5. How many global scopes are there in a Python program? How many local scopes?\n",
    "#### Ans:\n",
    "- There is 1 global scope and 1 local scope in the python program."
   ]
  },
  {
   "cell_type": "markdown",
   "id": "1e30ee12",
   "metadata": {},
   "source": [
    "#### 6. What happens to variables in a local scope when the function call returns?\n",
    "#### Ans:\n",
    "\n",
    "- The local variables are destroyed when function call returns."
   ]
  },
  {
   "cell_type": "markdown",
   "id": "a467dd66",
   "metadata": {},
   "source": [
    "#### 7. What is the concept of a return value? Is it possible to have a return value in an expression?\n",
    "#### Ans:\n",
    "\n",
    "- Return value is value or expression which a function can return.<br>\n",
    "- Yes, Return value can be an expression"
   ]
  },
  {
   "cell_type": "code",
   "execution_count": 3,
   "id": "ddb6b7db",
   "metadata": {},
   "outputs": [
    {
     "data": {
      "text/plain": [
       "20"
      ]
     },
     "execution_count": 3,
     "metadata": {},
     "output_type": "execute_result"
    }
   ],
   "source": [
    "def function7(a):\n",
    "    return a+10  ## Returning the expression\n",
    "\n",
    "function7(10)"
   ]
  },
  {
   "cell_type": "markdown",
   "id": "14730bde",
   "metadata": {},
   "source": [
    "#### 8. If a function does not have a return statement, what is the return value of a call to that function?\n",
    "#### Ans:\n",
    "\n",
    "- If a function does not have a return statement that means the function is not returning any values. In this case after function is executed completly it will return a NoneType."
   ]
  },
  {
   "cell_type": "code",
   "execution_count": 7,
   "id": "f27b7b0a",
   "metadata": {},
   "outputs": [
    {
     "data": {
      "text/plain": [
       "NoneType"
      ]
     },
     "execution_count": 7,
     "metadata": {},
     "output_type": "execute_result"
    }
   ],
   "source": [
    "def func():\n",
    "    a = 10\n",
    "    \n",
    "type(func())"
   ]
  },
  {
   "cell_type": "markdown",
   "id": "5aa5e37a",
   "metadata": {},
   "source": [
    "#### 9. How do you make a function variable refer to the global variable?\n",
    "#### Ans:\n",
    "\n",
    "- We can use the global keyword to declare which variables are global."
   ]
  },
  {
   "cell_type": "code",
   "execution_count": 12,
   "id": "a9153233",
   "metadata": {},
   "outputs": [
    {
     "name": "stdout",
     "output_type": "stream",
     "text": [
      "0\n",
      "5\n"
     ]
    }
   ],
   "source": [
    "var1 = 0\n",
    "def func():\n",
    "    global var1\n",
    "    var1 = 5\n",
    "    \n",
    "print(var1)\n",
    "func()\n",
    "print(var1)"
   ]
  },
  {
   "cell_type": "markdown",
   "id": "5e163c24",
   "metadata": {},
   "source": [
    "#### 10. What is the data type of None?\n",
    "#### Ans:\n",
    "\n",
    "The None keyword is used to define a null value. None is a data type of its own (NoneType)."
   ]
  },
  {
   "cell_type": "markdown",
   "id": "f4e0d210",
   "metadata": {},
   "source": [
    "#### 11. What does the sentence import areallyourpetsnamederic do?\n",
    "#### Ans:\n",
    "\n",
    "- \"Import areallyourpetsnamedericstatement\" will import the module named areallyourpetsnamederic."
   ]
  },
  {
   "cell_type": "markdown",
   "id": "04e054af",
   "metadata": {},
   "source": [
    "#### 12. If you had a bacon() feature in a spam module, what would you call it after importing spam?\n",
    "#### Ans:\n",
    "\n",
    "After import the spam.\n",
    "<br>\n",
    "spam.bacon()"
   ]
  },
  {
   "cell_type": "code",
   "execution_count": 13,
   "id": "3c3338e2",
   "metadata": {},
   "outputs": [],
   "source": [
    "#import spam\n",
    "#spam.bacon()"
   ]
  },
  {
   "cell_type": "markdown",
   "id": "aea5f91c",
   "metadata": {},
   "source": [
    "#### 13. What can you do to save a programme from crashing if it encounters an error?\n",
    "#### Ans:\n",
    "\n",
    "- To save the program from crashing over a runtime error we can use the try and except statement. It will save from only the runtime error not the compile time error."
   ]
  },
  {
   "cell_type": "code",
   "execution_count": 14,
   "id": "c3bafad2",
   "metadata": {},
   "outputs": [],
   "source": [
    "try:\n",
    "    pass\n",
    "except:\n",
    "    pass"
   ]
  },
  {
   "cell_type": "markdown",
   "id": "f4b771a6",
   "metadata": {},
   "source": [
    "#### 14. What is the purpose of the try clause? What is the purpose of the except clause?\n",
    "#### Ans:\n",
    "\n",
    "- Together try and except block is used to save programme from crashing when an error is encountered.\n",
    "- Try: Try block is used for test a block of code for errors.\n",
    "- Except: Except block is used to handle error."
   ]
  }
 ],
 "metadata": {
  "kernelspec": {
   "display_name": "Python 3 (ipykernel)",
   "language": "python",
   "name": "python3"
  },
  "language_info": {
   "codemirror_mode": {
    "name": "ipython",
    "version": 3
   },
   "file_extension": ".py",
   "mimetype": "text/x-python",
   "name": "python",
   "nbconvert_exporter": "python",
   "pygments_lexer": "ipython3",
   "version": "3.9.7"
  }
 },
 "nbformat": 4,
 "nbformat_minor": 5
}
