{
 "cells": [
  {
   "cell_type": "markdown",
   "id": "7e638056",
   "metadata": {},
   "source": [
    "# Python Basic Assignment - 21\n"
   ]
  },
  {
   "cell_type": "markdown",
   "id": "3e94bef7",
   "metadata": {},
   "source": [
    "### 1. Add the current date to the text file today.txt as a string."
   ]
  },
  {
   "cell_type": "code",
   "execution_count": 1,
   "id": "af5d631d",
   "metadata": {},
   "outputs": [
    {
     "name": "stdout",
     "output_type": "stream",
     "text": [
      "2022-07-11\n"
     ]
    }
   ],
   "source": [
    "from datetime import date\n",
    "\n",
    "with open('today.txt', 'w') as txt:\n",
    "    txt.write(date.today().isoformat())\n",
    "print(date.today().isoformat())"
   ]
  },
  {
   "cell_type": "markdown",
   "id": "cc03cfe3",
   "metadata": {},
   "source": [
    "### 2. Read the text file today.txt into the string today_string"
   ]
  },
  {
   "cell_type": "code",
   "execution_count": 2,
   "id": "69bf3bb9",
   "metadata": {},
   "outputs": [
    {
     "name": "stdout",
     "output_type": "stream",
     "text": [
      "Reading text: 2022-07-11\n"
     ]
    }
   ],
   "source": [
    "today_string = \"\"\n",
    "with open('today.txt', 'r') as txt:\n",
    "    today_string = txt.readline()\n",
    "print(f\"Reading text: {today_string}\")"
   ]
  },
  {
   "cell_type": "markdown",
   "id": "d4c76ae6",
   "metadata": {},
   "source": [
    "### 3. Parse the date from today_string.\n"
   ]
  },
  {
   "cell_type": "code",
   "execution_count": 3,
   "id": "712955a8",
   "metadata": {},
   "outputs": [
    {
     "name": "stdout",
     "output_type": "stream",
     "text": [
      "2022-07-11 00:00:00\n"
     ]
    }
   ],
   "source": [
    "from datetime import datetime\n",
    "print(datetime.strptime(today_string, '%Y-%m-%d'))"
   ]
  },
  {
   "cell_type": "markdown",
   "id": "ab454e9d",
   "metadata": {},
   "source": [
    "### 4. List the files in your current directory"
   ]
  },
  {
   "cell_type": "code",
   "execution_count": 5,
   "id": "cf93060b",
   "metadata": {},
   "outputs": [
    {
     "data": {
      "text/plain": [
       "['.ipynb_checkpoints',\n",
       " 'books.csv',\n",
       " 'books.db',\n",
       " 'p10_basic.ipynb',\n",
       " 'p11_basic.ipynb',\n",
       " 'p12_basic.ipynb',\n",
       " 'p13_basic.ipynb',\n",
       " 'p14_basic.ipynb',\n",
       " 'p15_basic.ipynb',\n",
       " 'p16_basic.ipynb',\n",
       " 'p17_basic.ipynb',\n",
       " 'p18_basic.ipynb',\n",
       " 'p19_basic.ipynb',\n",
       " 'p1_basic.ipynb',\n",
       " 'p20_basic.ipynb',\n",
       " 'p2_basic.ipynb',\n",
       " 'p3_basic.ipynb',\n",
       " 'p4_basic.ipynb',\n",
       " 'p5_basic.ipynb',\n",
       " 'p6_basic.ipynb',\n",
       " 'p7_basic.ipynb',\n",
       " 'p8_basic.ipynb',\n",
       " 'p9_basic.ipynb',\n",
       " 'screening_1.png',\n",
       " 'test.txt',\n",
       " 'today.txt',\n",
       " 'Untitled.ipynb',\n",
       " 'zoo.py',\n",
       " '__pycache__']"
      ]
     },
     "execution_count": 5,
     "metadata": {},
     "output_type": "execute_result"
    }
   ],
   "source": [
    "import os\n",
    "os.listdir('.')"
   ]
  },
  {
   "cell_type": "markdown",
   "id": "cba5e6ba",
   "metadata": {},
   "source": [
    "### 5. Create a list of all of the files in your parent directory (minimum five files should be available).\n"
   ]
  },
  {
   "cell_type": "code",
   "execution_count": 7,
   "id": "89dfd845",
   "metadata": {},
   "outputs": [
    {
     "name": "stdout",
     "output_type": "stream",
     "text": [
      "<class 'list'>\n",
      "['.conda', '.condarc', '.continuum', '.cufflinks', '.Icecream Screen Recorder', '.ipynb_checkpoints', '.ipython', '.jupyter', '.matplotlib', '.ms-ad', '.popsql.json', '03-Print Formatting with Strings.ipynb', '09-Objects and Data Structures Assessment Test.ipynb', '3D Objects', 'anaconda3', 'AppData', 'Application Data', 'assign', 'BullseyeCoverageError.txt', 'Chandan_Assignments', 'Contacts', 'Cookies', 'C_Assignments', 'Desktop', 'Documents', 'Downloads', 'Dropbox', 'DS_iNeuron', 'EDA and Feature engineering', 'Favorites', 'glass.data', 'house regression', 'if else , for loop.ipynb', 'iNeuron_assignments', 'iNeuron_Placement_screening', 'Keith gaali - numpy pandas', 'Links', 'Local Settings', 'log', 'Microsoft', 'Movie Portfolio Project.ipynb', 'Music', 'My Documents', 'NetHood', 'NTUSER.DAT', 'ntuser.dat.LOG1', 'ntuser.dat.LOG2', 'NTUSER.DAT{53b39e88-18c4-11ea-a811-000d3aa4692b}.TM.blf', 'NTUSER.DAT{53b39e88-18c4-11ea-a811-000d3aa4692b}.TMContainer00000000000000000001.regtrans-ms', 'NTUSER.DAT{53b39e88-18c4-11ea-a811-000d3aa4692b}.TMContainer00000000000000000002.regtrans-ms', 'ntuser.ini', 'OneDrive', 'oops 30th.ipynb', 'p1.ipynb', 'p2.ipynb', 'p3.ipynb', 'Pictures', 'PrintHood', 'PycharmProjects', 'python basic.ipynb', 'Python_JosePortilla', 'Recent', 'Saved Games', 'seaborn-data', 'Searches', 'SendTo', 'sql_1.ipynb', 'Start Menu', 'Templates', 'Tracing', 'Videos']\n",
      "Number of files: 71\n"
     ]
    }
   ],
   "source": [
    "lst_files = os.listdir('..')\n",
    "print(type(lst_files))\n",
    "print(lst_files)\n",
    "print(f\"Number of files: {len(lst_files)}\")"
   ]
  },
  {
   "cell_type": "markdown",
   "id": "9d0ed062",
   "metadata": {},
   "source": [
    "### 6. Use multiprocessing to create three separate processes. Make each one wait a random number of seconds between one and five, print the current time, and then exit.\n"
   ]
  },
  {
   "cell_type": "code",
   "execution_count": 8,
   "id": "58e43c73",
   "metadata": {},
   "outputs": [
    {
     "name": "stdout",
     "output_type": "stream",
     "text": [
      "starting processes\n",
      "Process 0 will sleep for 7\n",
      "starting processes\n",
      "Process 1 will sleep for 6\n",
      "starting processes\n",
      "Process 2 will sleep for 8\n"
     ]
    }
   ],
   "source": [
    "import multiprocessing\n",
    "from datetime import datetime \n",
    "from time import sleep \n",
    "import random\n",
    "\n",
    "def now_sleep(seconds): \n",
    "    print('wait', seconds, 'seconds, time is', datetime.utcnow())\n",
    "    sleep(seconds) \n",
    "    print(\"Finished Process!\")\n",
    "\n",
    "if __name__ == '__main__':\n",
    "    for n in range(3): \n",
    "        print(\"starting processes\")\n",
    "        seconds = random.randint(1, 10) \n",
    "        print(f\"Process {n} will sleep for {seconds}\")\n",
    "        proc = multiprocessing.Process(target=now_sleep, args=(seconds,)) \n",
    "        proc.start()\n",
    "        \n",
    "# Note: this file is saved as multiprocessing.py in local file system"
   ]
  },
  {
   "cell_type": "markdown",
   "id": "687431ab",
   "metadata": {},
   "source": [
    "### 7. Create a date object of your day of birth.\n"
   ]
  },
  {
   "cell_type": "code",
   "execution_count": 9,
   "id": "0ada6cd1",
   "metadata": {},
   "outputs": [
    {
     "name": "stdout",
     "output_type": "stream",
     "text": [
      "1998-06-22\n"
     ]
    }
   ],
   "source": [
    "my_birthday = date(1998, 6, 22)\n",
    "print(my_birthday)"
   ]
  },
  {
   "cell_type": "markdown",
   "id": "e885d437",
   "metadata": {},
   "source": [
    "### 8. What day of the week was your day of birth?\n"
   ]
  },
  {
   "cell_type": "code",
   "execution_count": 10,
   "id": "653b6aa1",
   "metadata": {},
   "outputs": [
    {
     "name": "stdout",
     "output_type": "stream",
     "text": [
      "My birthday was on 1th day of the week\n"
     ]
    }
   ],
   "source": [
    "print(f\"My birthday was on {my_birthday.isoweekday()}th day of the week\")"
   ]
  },
  {
   "cell_type": "markdown",
   "id": "fc2a0ca0",
   "metadata": {},
   "source": [
    "### 9. When will you be (or when were you) 10,000 days old?\n"
   ]
  },
  {
   "cell_type": "code",
   "execution_count": 11,
   "id": "db5e5906",
   "metadata": {},
   "outputs": [
    {
     "name": "stdout",
     "output_type": "stream",
     "text": [
      "2025-11-07\n"
     ]
    }
   ],
   "source": [
    "from datetime import timedelta\n",
    "\n",
    "thousand_days = my_birthday + timedelta(days=10000)\n",
    "print(thousand_days)"
   ]
  }
 ],
 "metadata": {
  "kernelspec": {
   "display_name": "Python 3 (ipykernel)",
   "language": "python",
   "name": "python3"
  },
  "language_info": {
   "codemirror_mode": {
    "name": "ipython",
    "version": 3
   },
   "file_extension": ".py",
   "mimetype": "text/x-python",
   "name": "python",
   "nbconvert_exporter": "python",
   "pygments_lexer": "ipython3",
   "version": "3.9.7"
  }
 },
 "nbformat": 4,
 "nbformat_minor": 5
}
