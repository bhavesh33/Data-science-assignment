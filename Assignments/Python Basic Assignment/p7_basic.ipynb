{
 "cells": [
  {
   "cell_type": "markdown",
   "id": "abf6fc47",
   "metadata": {},
   "source": [
    "# Python Basic Assignment - 7"
   ]
  },
  {
   "cell_type": "markdown",
   "id": "1af1498e",
   "metadata": {},
   "source": [
    "#### 1. What is the name of the feature responsible for generating Regex objects?\n",
    "\n",
    "#### Ans:\n",
    "- re.compile()"
   ]
  },
  {
   "cell_type": "markdown",
   "id": "d6e7338e",
   "metadata": {},
   "source": [
    "#### 2. Why do raw strings often appear in Regex objects?\n",
    "\n",
    "#### Ans:\n",
    "\n",
    "- Raw string notation keeps regular expression meaningful and confusion free. Without it every backslash(' \\ ') in regular expression would have to be prefixed with another one to escape it."
   ]
  },
  {
   "cell_type": "markdown",
   "id": "c520cd81",
   "metadata": {},
   "source": [
    "#### 3.What is the return value of the search() method?\n",
    "\n",
    "#### Ans:\n",
    "\n",
    "- It returns a match object if there is a match else returns none.\n"
   ]
  },
  {
   "cell_type": "markdown",
   "id": "5c7b5561",
   "metadata": {},
   "source": [
    "#### 4. From a Match item, how do you get the actual strings that match the pattern?\n",
    "#### Ans:\n",
    "\n",
    "- group() method returns the actual string that match the pattern.\n"
   ]
  },
  {
   "cell_type": "markdown",
   "id": "a865e9f3",
   "metadata": {},
   "source": [
    "#### 5. In the regex which created from the r'(\\d\\d\\d)-(\\d\\d\\d-\\d\\d\\d\\d)', what does group zero cover?Group 2? Group 1?\n",
    "\n",
    "#### Ans:\n",
    "\n",
    "- group 0 covers (\\d\\d\\d)-(\\d\\d\\d-\\d\\d\\d\\d)\n",
    "- group 1 covers (\\d\\d\\d)\n",
    "- group 2 covers (\\d\\d\\d-\\d\\d\\d\\d)"
   ]
  },
  {
   "cell_type": "markdown",
   "id": "f11b9304",
   "metadata": {},
   "source": [
    "#### 6. In standard expression syntax, parentheses and intervals have distinct meanings. How can you tell a regex that you want it to fit real parentheses and periods?\n",
    "\n",
    "#### Ans:\n",
    "- \\.,  \\(,  \\)"
   ]
  },
  {
   "cell_type": "code",
   "execution_count": 1,
   "id": "966e65bd",
   "metadata": {},
   "outputs": [],
   "source": [
    "# \\.,  \\(,  \\)"
   ]
  },
  {
   "cell_type": "markdown",
   "id": "8f4439cb",
   "metadata": {},
   "source": [
    "#### 7.The findall() method returns a string list or a list of string tuples. What causes it to return one of the two options?\n",
    "\n",
    "#### Ans:\n",
    "\n",
    "- If there is a one group in the expression, findall() returns list of strings. If there is several groups in the expression, findall() returns list of string tuples.\n"
   ]
  },
  {
   "cell_type": "markdown",
   "id": "01f527c8",
   "metadata": {},
   "source": [
    "#### 8.In standard expressions, what does the | character mean?\n",
    "\n",
    "#### Ans:\n",
    "\n",
    "- It means either or "
   ]
  },
  {
   "cell_type": "markdown",
   "id": "7701fedc",
   "metadata": {},
   "source": [
    "#### 9.In regular expressions, what does the character stand for?\n",
    "\n",
    "#### Ans:\n",
    "\n",
    "- Zero or one occerences"
   ]
  },
  {
   "cell_type": "markdown",
   "id": "134372e1",
   "metadata": {},
   "source": [
    "#### 10. In regular expressions, what is the difference between the + and * characters?\n",
    "\n",
    "#### Ans:\n",
    "\n",
    "- ' + ' refers one or more occurences\n",
    "- ' * ' refers zero or more occurences."
   ]
  },
  {
   "cell_type": "markdown",
   "id": "ea74f596",
   "metadata": {},
   "source": [
    "#### 11. What is the difference between {4} and {4,5} in regular expression?\n",
    "\n",
    "#### Ans:\n",
    "\n",
    "- {4} means preceding character is to be repeated 4 times.\n",
    "- {4,5} means preceding character is repeated minimum 4 times and maximum 5 times."
   ]
  },
  {
   "cell_type": "markdown",
   "id": "ffe19512",
   "metadata": {},
   "source": [
    "#### 12. What do you mean by the \\d, \\w, and \\s shorthand character classes signify in regular expressions?\n",
    "\n",
    "#### Ans:\n",
    "\n",
    "- \\d returns a match where string contains digit(number from 0-9)\n",
    "- \\w returns a match where string contains any word character(character from a to Z, digit from 0 to 9 and underscore character)\n",
    "- \\s returns a match where string contains a whitespace character."
   ]
  },
  {
   "cell_type": "markdown",
   "id": "ff687343",
   "metadata": {},
   "source": [
    "#### 14. What is the difference between .? and .?\n",
    "\n",
    "#### Ans:\n",
    "\n",
    "- ' . ' accepts as many sequence as available(Greedy approach)\n",
    "- ' .? ' accepts the first matched sequence and then stops(Non-Greedy approach).\n"
   ]
  },
  {
   "cell_type": "markdown",
   "id": "c9dd3c86",
   "metadata": {},
   "source": [
    "#### 15. What is the syntax for matching both numbers and lowercase letters with a character class?\n",
    "\n",
    "#### Ans:\n",
    "\n",
    "- [a-z0-9]"
   ]
  },
  {
   "cell_type": "markdown",
   "id": "90eb5539",
   "metadata": {},
   "source": [
    "#### 16. What is the procedure for making a normal expression in regax case insensitive?\n",
    "\n",
    "#### Ans:\n",
    "\n",
    "- pass re.IGNORECASE to re.compile()"
   ]
  },
  {
   "cell_type": "markdown",
   "id": "6e06b92d",
   "metadata": {},
   "source": [
    "#### 17. What does the . character normally match? What does it match if re.DOTALL is passed as 2nd argument in re.compile()?\n",
    "\n",
    "#### Ans:\n",
    "\n",
    "- ' . ' character normally pass any character except newline character. With the help of DOTALL, ' . ' character can match any character including newline.\n"
   ]
  },
  {
   "cell_type": "markdown",
   "id": "428d4f82",
   "metadata": {},
   "source": [
    "#### 18. If numReg = re.compile(r'\\d+'), what will numReg.sub('X', '11 drummers, 10 pipers, five rings, 4 hen') return?\n",
    "\n",
    "#### Ans:\n",
    "\n",
    "- 'X drummers, X pipers, five rings, X hen'"
   ]
  },
  {
   "cell_type": "markdown",
   "id": "a525f6ad",
   "metadata": {},
   "source": [
    "#### 19. What does passing re.VERBOSE as the 2nd argument to re.compile() allow to do?\n",
    "\n",
    "#### Ans:\n",
    "\n",
    "- It allows to write regular expressin that look nicer and are more readable by allowing visually separate logical section of the pattern and add comments.\n"
   ]
  }
 ],
 "metadata": {
  "kernelspec": {
   "display_name": "Python 3 (ipykernel)",
   "language": "python",
   "name": "python3"
  },
  "language_info": {
   "codemirror_mode": {
    "name": "ipython",
    "version": 3
   },
   "file_extension": ".py",
   "mimetype": "text/x-python",
   "name": "python",
   "nbconvert_exporter": "python",
   "pygments_lexer": "ipython3",
   "version": "3.9.7"
  }
 },
 "nbformat": 4,
 "nbformat_minor": 5
}
