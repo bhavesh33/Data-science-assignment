{
 "cells": [
  {
   "cell_type": "markdown",
   "id": "12c20c44",
   "metadata": {},
   "source": [
    "# Python Basic Assignment - 1"
   ]
  },
  {
   "cell_type": "markdown",
   "id": "65c928ad",
   "metadata": {},
   "source": [
    "#### 1. In the below elements which of them are values or an expression? eg:- values can be integer or string and expressions will be mathematical operators."
   ]
  },
  {
   "cell_type": "raw",
   "id": "c47013e9",
   "metadata": {},
   "source": [
    " *             :   Expression(Mathematical operators)\n",
    "'hello'        :   Value(String)  \n",
    "-87.8          :   Value(Float)  \n",
    "-              :   Expression(Mathematical operators)  \n",
    "/              :   Expression(Mathematical operators) \n",
    "6              :   Value(Integer)  "
   ]
  },
  {
   "cell_type": "markdown",
   "id": "9f0ad08d",
   "metadata": {},
   "source": [
    "#### 2. What is the difference between string and variable?\n",
    "=> Variable is a container which used to store the value(data)and this data can be of int, float, str data-type.\n",
    " whereas string is one of the datatype which used to store collection of characters (for eg: 'Data Analysis')"
   ]
  },
  {
   "cell_type": "markdown",
   "id": "87395d2a",
   "metadata": {},
   "source": [
    "#### 3. Describe three different data types.\n",
    "\n",
    "- Int   : Int datatype is used to repersent the integer values (eg. a = 12345, b = -353)\n",
    "<br/><br/>\n",
    "- float : Float datatype is used to repersent the real numbers(floating point) (eg. c = 15.34, d = -3.78)\n",
    "<br/><br/>\n",
    "- string: String is used to repersent the sequence of characters. Also the characters can be numbers, special character, and alphabates. (eg. s1 = \"Hello World!\", s2 = \"Hey1245@doit\") "
   ]
  },
  {
   "cell_type": "markdown",
   "id": "2339256c",
   "metadata": {},
   "source": [
    "#### 4. What is an expression made up of? What do all expressions do?\n",
    "\n",
    "- Expression : Expression is the combinaton of mathematical operators and operands to produce other value. It consists of one or more operand and zero or more operators to produce a value.\n",
    "- Expression is used to produce some result or value."
   ]
  },
  {
   "cell_type": "markdown",
   "id": "7d589674",
   "metadata": {},
   "source": [
    "#### 5. This assignment statements, like spam = 10. What is the difference between an expression and a statement?\n",
    "\n",
    " - Assignment statement : It is the statement where some value or expression is assigned to a variable.\n",
    " - Difference : The difference between statement and expression is that expression itself is assigned to a variable. \n",
    " <br/><br/>\n",
    "  - For Eg: spam = 10 * b\n",
    "  - In the example \" spam = 10 * b \" is a assignment statement whereas the \" 10 * b \" is an expression."
   ]
  },
  {
   "cell_type": "markdown",
   "id": "ff87845b",
   "metadata": {},
   "source": [
    "#### 6. After running the following code, what does the variable bacon contain?\n",
    "bacon = 22\n",
    "<br/>\n",
    "bacon + 1\n",
    "\n",
    "= > Ans: bacon will contain 22."
   ]
  },
  {
   "cell_type": "code",
   "execution_count": 1,
   "id": "5a78d541",
   "metadata": {},
   "outputs": [
    {
     "name": "stdout",
     "output_type": "stream",
     "text": [
      "22\n"
     ]
    }
   ],
   "source": [
    "bacon = 22\n",
    "bacon + 1\n",
    "print(bacon)"
   ]
  },
  {
   "cell_type": "markdown",
   "id": "66e31d6c",
   "metadata": {},
   "source": [
    "#### 7. What should the values of the following two terms be?\n",
    "'spam' + 'spamspam'<br/>\n",
    "'spam' * 3\n",
    "##### Ans: \n",
    "- 'spam' + 'spamspam' = 'spamspamspam'\n",
    "- 'spam' * 3  = 'spamspamspam'"
   ]
  },
  {
   "cell_type": "code",
   "execution_count": 2,
   "id": "95d7cd6e",
   "metadata": {},
   "outputs": [
    {
     "data": {
      "text/plain": [
       "'spamspamspam'"
      ]
     },
     "execution_count": 2,
     "metadata": {},
     "output_type": "execute_result"
    }
   ],
   "source": [
    "'spam'*3"
   ]
  },
  {
   "cell_type": "code",
   "execution_count": 3,
   "id": "b6e7770c",
   "metadata": {},
   "outputs": [
    {
     "data": {
      "text/plain": [
       "'spamspamspam'"
      ]
     },
     "execution_count": 3,
     "metadata": {},
     "output_type": "execute_result"
    }
   ],
   "source": [
    "'spam'+'spamspam'"
   ]
  },
  {
   "cell_type": "markdown",
   "id": "c217c8f3",
   "metadata": {},
   "source": [
    "#### 8. Why is eggs a valid variable name while 100 is invalid?\n",
    "\n",
    "- Ans: Variable declartion in python must start with either alphabate or underscore '_'.\n",
    "- eg : a = 20, str1 = \"Data\", _val = -19.19"
   ]
  },
  {
   "cell_type": "markdown",
   "id": "95ee7efc",
   "metadata": {},
   "source": [
    "#### 9. What three functions can be used to get the integer, floating-point number, or string version of a value?\n",
    "\n",
    "- Ans: int(), float() and str() used to get the integer,floating-point number and string version of value. "
   ]
  },
  {
   "cell_type": "code",
   "execution_count": 9,
   "id": "495eee18",
   "metadata": {},
   "outputs": [
    {
     "data": {
      "text/plain": [
       "15"
      ]
     },
     "execution_count": 9,
     "metadata": {},
     "output_type": "execute_result"
    }
   ],
   "source": [
    "int(15.46)"
   ]
  },
  {
   "cell_type": "code",
   "execution_count": 5,
   "id": "8b75978e",
   "metadata": {},
   "outputs": [
    {
     "data": {
      "text/plain": [
       "143.0"
      ]
     },
     "execution_count": 5,
     "metadata": {},
     "output_type": "execute_result"
    }
   ],
   "source": [
    "float(143)"
   ]
  },
  {
   "cell_type": "code",
   "execution_count": 6,
   "id": "6bfe4244",
   "metadata": {},
   "outputs": [
    {
     "data": {
      "text/plain": [
       "'123'"
      ]
     },
     "execution_count": 6,
     "metadata": {},
     "output_type": "execute_result"
    }
   ],
   "source": [
    "str(123)"
   ]
  },
  {
   "cell_type": "markdown",
   "id": "c0e2f0d8",
   "metadata": {},
   "source": [
    "#### 10. Why does this expression cause an error? How can you fix it?\n",
    "'I have eaten ' + 99 + ' burritos.'\n",
    "\n",
    "Answer : The concat operation between string and int is not possbile So it will throw an error. To fix this error we can typecast the int value using str(99)."
   ]
  },
  {
   "cell_type": "code",
   "execution_count": 7,
   "id": "097025ff",
   "metadata": {},
   "outputs": [
    {
     "ename": "TypeError",
     "evalue": "can only concatenate str (not \"int\") to str",
     "output_type": "error",
     "traceback": [
      "\u001b[1;31m---------------------------------------------------------------------------\u001b[0m",
      "\u001b[1;31mTypeError\u001b[0m                                 Traceback (most recent call last)",
      "\u001b[1;32m~\\AppData\\Local\\Temp/ipykernel_3776/1774935878.py\u001b[0m in \u001b[0;36m<module>\u001b[1;34m\u001b[0m\n\u001b[1;32m----> 1\u001b[1;33m \u001b[1;34m'I have eaten '\u001b[0m \u001b[1;33m+\u001b[0m \u001b[1;36m99\u001b[0m \u001b[1;33m+\u001b[0m \u001b[1;34m' burritos.'\u001b[0m\u001b[1;33m\u001b[0m\u001b[1;33m\u001b[0m\u001b[0m\n\u001b[0m",
      "\u001b[1;31mTypeError\u001b[0m: can only concatenate str (not \"int\") to str"
     ]
    }
   ],
   "source": [
    "'I have eaten ' + 99 + ' burritos.'"
   ]
  },
  {
   "cell_type": "code",
   "execution_count": 8,
   "id": "e20cbb34",
   "metadata": {},
   "outputs": [
    {
     "data": {
      "text/plain": [
       "'I have eaten 99 burritos.'"
      ]
     },
     "execution_count": 8,
     "metadata": {},
     "output_type": "execute_result"
    }
   ],
   "source": [
    "'I have eaten ' + str(99) + ' burritos.'"
   ]
  }
 ],
 "metadata": {
  "kernelspec": {
   "display_name": "Python 3 (ipykernel)",
   "language": "python",
   "name": "python3"
  },
  "language_info": {
   "codemirror_mode": {
    "name": "ipython",
    "version": 3
   },
   "file_extension": ".py",
   "mimetype": "text/x-python",
   "name": "python",
   "nbconvert_exporter": "python",
   "pygments_lexer": "ipython3",
   "version": "3.9.7"
  }
 },
 "nbformat": 4,
 "nbformat_minor": 5
}
