{
 "cells": [
  {
   "cell_type": "markdown",
   "id": "3ce025e2",
   "metadata": {},
   "source": [
    "# Python Basic Assignment - 16"
   ]
  },
  {
   "cell_type": "markdown",
   "id": "1434f448",
   "metadata": {},
   "source": [
    "#### 1. Create a list called years_list, starting with the year of your birth, and each year thereafter until the year of your fifth birthday. For example, if you were born in 1980. the list would be years_list = [1980, 1981, 1982, 1983, 1984, 1985]."
   ]
  },
  {
   "cell_type": "code",
   "execution_count": 1,
   "id": "75e2b7ee",
   "metadata": {},
   "outputs": [
    {
     "data": {
      "text/plain": [
       "[1998, 1999, 2000, 2001, 2002, 2003]"
      ]
     },
     "execution_count": 1,
     "metadata": {},
     "output_type": "execute_result"
    }
   ],
   "source": [
    "year_list = [1998, 1999, 2000, 2001, 2002, 2003]\n",
    "year_list"
   ]
  },
  {
   "cell_type": "markdown",
   "id": "77f803b3",
   "metadata": {},
   "source": [
    "#### 2. In which year in years_list was your third birthday? Remember, you were 0 years of age for your first year."
   ]
  },
  {
   "cell_type": "code",
   "execution_count": 2,
   "id": "e7315e35",
   "metadata": {},
   "outputs": [
    {
     "data": {
      "text/plain": [
       "2001"
      ]
     },
     "execution_count": 2,
     "metadata": {},
     "output_type": "execute_result"
    }
   ],
   "source": [
    "year_list[3]"
   ]
  },
  {
   "cell_type": "markdown",
   "id": "72373165",
   "metadata": {},
   "source": [
    "#### 3.In the years list, which year were you the oldest?"
   ]
  },
  {
   "cell_type": "code",
   "execution_count": 3,
   "id": "00b2a11a",
   "metadata": {},
   "outputs": [
    {
     "data": {
      "text/plain": [
       "2003"
      ]
     },
     "execution_count": 3,
     "metadata": {},
     "output_type": "execute_result"
    }
   ],
   "source": [
    "year_list[-1]"
   ]
  },
  {
   "cell_type": "markdown",
   "id": "b7267c84",
   "metadata": {},
   "source": [
    "#### 4. Make a list called things with these three strings as elements: \"mozzarella\", \"cinderella\", \"salmonella\"."
   ]
  },
  {
   "cell_type": "code",
   "execution_count": 4,
   "id": "14c868bc",
   "metadata": {},
   "outputs": [
    {
     "data": {
      "text/plain": [
       "['mozzarella', 'cinderella', 'salmonella']"
      ]
     },
     "execution_count": 4,
     "metadata": {},
     "output_type": "execute_result"
    }
   ],
   "source": [
    "things = [\"mozzarella\", \"cinderella\", \"salmonella\"]\n",
    "things"
   ]
  },
  {
   "cell_type": "markdown",
   "id": "5b541b86",
   "metadata": {},
   "source": [
    "#### 5. Capitalize the element in things that refers to a person and then print the list. Did it change the element in the list?"
   ]
  },
  {
   "cell_type": "code",
   "execution_count": 5,
   "id": "b7dac4f3",
   "metadata": {},
   "outputs": [
    {
     "name": "stdout",
     "output_type": "stream",
     "text": [
      "['mozzarella', 'cinderella', 'salmonella']\n",
      "Cinderella\n",
      "['mozzarella', 'cinderella', 'salmonella']\n"
     ]
    }
   ],
   "source": [
    "print(things)\n",
    "things[1].capitalize()\n",
    "print(things[1].capitalize())\n",
    "print(things)\n",
    "#It doesn't change the list"
   ]
  },
  {
   "cell_type": "markdown",
   "id": "14aca453",
   "metadata": {},
   "source": [
    "#### 6. Make a surprise list with the elements \"Groucho,\" \"Chico,\" and \"Harpo.\""
   ]
  },
  {
   "cell_type": "code",
   "execution_count": 6,
   "id": "18c30423",
   "metadata": {},
   "outputs": [
    {
     "data": {
      "text/plain": [
       "['Groucho', 'Chico', 'Harpo']"
      ]
     },
     "execution_count": 6,
     "metadata": {},
     "output_type": "execute_result"
    }
   ],
   "source": [
    "surprise = [\"Groucho\", \"Chico\", \"Harpo\"]\n",
    "surprise"
   ]
  },
  {
   "cell_type": "markdown",
   "id": "f7f1812f",
   "metadata": {},
   "source": [
    "#### 7. Lowercase the last element of the surprise list, reverse it, and then capitalize it."
   ]
  },
  {
   "cell_type": "code",
   "execution_count": 7,
   "id": "1351bb59",
   "metadata": {},
   "outputs": [],
   "source": [
    "surprise[-1] = surprise[-1][::-1]\n",
    "surprise[-1] = surprise[-1].capitalize()"
   ]
  },
  {
   "cell_type": "code",
   "execution_count": 8,
   "id": "1c5ed7ae",
   "metadata": {},
   "outputs": [
    {
     "data": {
      "text/plain": [
       "['Groucho', 'Chico', 'Oprah']"
      ]
     },
     "execution_count": 8,
     "metadata": {},
     "output_type": "execute_result"
    }
   ],
   "source": [
    "surprise"
   ]
  },
  {
   "cell_type": "markdown",
   "id": "235faabd",
   "metadata": {},
   "source": [
    "#### 8. Make an English-to-French dictionary called e2f and print it. Here are your starter words: dog is chien, cat is chat, and walrus is morse."
   ]
  },
  {
   "cell_type": "code",
   "execution_count": 9,
   "id": "a4b70b55",
   "metadata": {},
   "outputs": [
    {
     "name": "stdout",
     "output_type": "stream",
     "text": [
      "{'dog': 'chien', 'cat': 'chat', 'walrus': 'morse'}\n"
     ]
    }
   ],
   "source": [
    "e2f = {\n",
    "    \"dog\" : \"chien\",\n",
    "    \"cat\" : \"chat\",\n",
    "    \"walrus\": \"morse\"\n",
    "}\n",
    "print(e2f)"
   ]
  },
  {
   "cell_type": "markdown",
   "id": "285f11cf",
   "metadata": {},
   "source": [
    "#### 9. Write the French word for walrus in your three-word dictionary e2f."
   ]
  },
  {
   "cell_type": "code",
   "execution_count": 10,
   "id": "9fd9e1aa",
   "metadata": {},
   "outputs": [
    {
     "data": {
      "text/plain": [
       "'morse'"
      ]
     },
     "execution_count": 10,
     "metadata": {},
     "output_type": "execute_result"
    }
   ],
   "source": [
    "e2f['walrus']"
   ]
  },
  {
   "cell_type": "markdown",
   "id": "e1a99aeb",
   "metadata": {},
   "source": [
    "#### 10. Make a French-to-English dictionary called f2e from e2f. Use the items method."
   ]
  },
  {
   "cell_type": "code",
   "execution_count": 11,
   "id": "a7292aa9",
   "metadata": {},
   "outputs": [
    {
     "name": "stdout",
     "output_type": "stream",
     "text": [
      "{'chien': 'dog', 'chat': 'cat', 'morse': 'walrus'}\n"
     ]
    }
   ],
   "source": [
    "f2e = {v:k for (k,v) in e2f.items()}\n",
    "print(f2e)"
   ]
  },
  {
   "cell_type": "markdown",
   "id": "8ee18b9d",
   "metadata": {},
   "source": [
    "#### 11. Print the English version of the French word chien using f2e."
   ]
  },
  {
   "cell_type": "code",
   "execution_count": 12,
   "id": "b4bdd5df",
   "metadata": {},
   "outputs": [
    {
     "data": {
      "text/plain": [
       "'dog'"
      ]
     },
     "execution_count": 12,
     "metadata": {},
     "output_type": "execute_result"
    }
   ],
   "source": [
    "f2e['chien']"
   ]
  },
  {
   "cell_type": "markdown",
   "id": "8d9ad0bb",
   "metadata": {},
   "source": [
    "#### 12. Make and print a set of English words from the keys in e2f."
   ]
  },
  {
   "cell_type": "code",
   "execution_count": 13,
   "id": "ae5de347",
   "metadata": {},
   "outputs": [
    {
     "name": "stdout",
     "output_type": "stream",
     "text": [
      "{'walrus', 'dog', 'cat'}\n"
     ]
    }
   ],
   "source": [
    "print(set(e2f.keys()))"
   ]
  },
  {
   "cell_type": "code",
   "execution_count": 14,
   "id": "a8049025",
   "metadata": {},
   "outputs": [
    {
     "data": {
      "text/plain": [
       "{'cat', 'dog', 'walrus'}"
      ]
     },
     "execution_count": 14,
     "metadata": {},
     "output_type": "execute_result"
    }
   ],
   "source": [
    "set(e2f.keys())"
   ]
  },
  {
   "cell_type": "markdown",
   "id": "b6a7be26",
   "metadata": {},
   "source": [
    "#### 13. Make a multilevel dictionary called life. Use these strings for the topmost keys: 'animals', 'plants', and 'other'. Make the 'animals' key refer to another dictionary with the keys 'cats', 'octopi', and 'emus'. Make the 'cats' key refer to a list of strings with the values 'Henri', 'Grumpy', and 'Lucy'. Make all the other keys refer to empty dictionaries."
   ]
  },
  {
   "cell_type": "code",
   "execution_count": 15,
   "id": "b7b92475",
   "metadata": {},
   "outputs": [
    {
     "name": "stdout",
     "output_type": "stream",
     "text": [
      "{'animals': {'cats': ['Henri', 'Grumpy', 'Lucy'], 'octopi': {}, 'emus': {}}, 'plants': {}, 'other': {}}\n"
     ]
    }
   ],
   "source": [
    "lst_strs = ['Henri', 'Grumpy', 'Lucy']\n",
    "animals = {\n",
    "          \"cats\": lst_strs,\n",
    "          \"octopi\": {},\n",
    "          \"emus\" : {}\n",
    "          }\n",
    "life = {\n",
    "       \"animals\": animals,\n",
    "       \"plants\": {},\n",
    "       \"other\": {}\n",
    "       }\n",
    "\n",
    "print(life)"
   ]
  },
  {
   "cell_type": "markdown",
   "id": "ee131a8f",
   "metadata": {},
   "source": [
    "#### 14. Print the top-level keys of life."
   ]
  },
  {
   "cell_type": "code",
   "execution_count": 16,
   "id": "fd05b4b7",
   "metadata": {},
   "outputs": [
    {
     "name": "stdout",
     "output_type": "stream",
     "text": [
      "dict_keys(['animals', 'plants', 'other'])\n"
     ]
    }
   ],
   "source": [
    "print(life.keys())"
   ]
  },
  {
   "cell_type": "markdown",
   "id": "46e768d4",
   "metadata": {},
   "source": [
    "#### 15. Print the keys for life['animals']."
   ]
  },
  {
   "cell_type": "code",
   "execution_count": 18,
   "id": "cca5b165",
   "metadata": {},
   "outputs": [
    {
     "name": "stdout",
     "output_type": "stream",
     "text": [
      "dict_keys(['cats', 'octopi', 'emus'])\n"
     ]
    }
   ],
   "source": [
    "print(life['animals'].keys())"
   ]
  },
  {
   "cell_type": "markdown",
   "id": "f8299226",
   "metadata": {},
   "source": [
    "#### 16. Print the values for life['animals']['cats']"
   ]
  },
  {
   "cell_type": "code",
   "execution_count": 17,
   "id": "65fc5e6c",
   "metadata": {},
   "outputs": [
    {
     "data": {
      "text/plain": [
       "['Henri', 'Grumpy', 'Lucy']"
      ]
     },
     "execution_count": 17,
     "metadata": {},
     "output_type": "execute_result"
    }
   ],
   "source": [
    "life['animals']['cats']"
   ]
  }
 ],
 "metadata": {
  "kernelspec": {
   "display_name": "Python 3 (ipykernel)",
   "language": "python",
   "name": "python3"
  },
  "language_info": {
   "codemirror_mode": {
    "name": "ipython",
    "version": 3
   },
   "file_extension": ".py",
   "mimetype": "text/x-python",
   "name": "python",
   "nbconvert_exporter": "python",
   "pygments_lexer": "ipython3",
   "version": "3.9.7"
  }
 },
 "nbformat": 4,
 "nbformat_minor": 5
}
