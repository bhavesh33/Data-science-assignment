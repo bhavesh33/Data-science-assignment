{
 "cells": [
  {
   "cell_type": "markdown",
   "id": "d2c433d9",
   "metadata": {},
   "source": [
    "#### 1. What exactly is []?\n",
    "\n",
    "- [] is the empty list"
   ]
  },
  {
   "cell_type": "markdown",
   "id": "6e1aa223",
   "metadata": {},
   "source": [
    "#### 2. In a list of values stored in a variable called spam, how would you assign the value 'hello' as the third value? (Assume [2, 4, 6, 8, 10] are in spam.)\n",
    "- We need to modify the value at 2nd index of spam list"
   ]
  },
  {
   "cell_type": "code",
   "execution_count": 1,
   "id": "c53d4fd5",
   "metadata": {},
   "outputs": [
    {
     "name": "stdout",
     "output_type": "stream",
     "text": [
      "[2, 4, 6, 8, 10]\n",
      "[2, 4, 'hello', 8, 10]\n"
     ]
    }
   ],
   "source": [
    "spam = [2, 4, 6, 8, 10]\n",
    "print(spam)\n",
    "spam[2] = 'hello'\n",
    "print(spam)"
   ]
  },
  {
   "cell_type": "markdown",
   "id": "4c513a0e",
   "metadata": {},
   "source": [
    "### Let's pretend the spam includes the list ['a', 'b', 'c', 'd'] for the next three queries."
   ]
  },
  {
   "cell_type": "code",
   "execution_count": 2,
   "id": "9de43ce6",
   "metadata": {},
   "outputs": [],
   "source": [
    "spam = ['a','b','c','d']"
   ]
  },
  {
   "cell_type": "markdown",
   "id": "f7118740",
   "metadata": {},
   "source": [
    "#### 3. What is the value of spam[int(int('3' * 2) / 11)]?"
   ]
  },
  {
   "cell_type": "markdown",
   "id": "bd3629bf",
   "metadata": {},
   "source": [
    "- '3'**2 will give '33'\n",
    "- int('33') will be 33\n",
    "- 33/11 will be 3.0\n",
    "- int(3.0) will give 3\n",
    "- spam[3] will be value at index 3 that is 'd'"
   ]
  },
  {
   "cell_type": "code",
   "execution_count": 3,
   "id": "61dfa2e4",
   "metadata": {},
   "outputs": [
    {
     "data": {
      "text/plain": [
       "'d'"
      ]
     },
     "execution_count": 3,
     "metadata": {},
     "output_type": "execute_result"
    }
   ],
   "source": [
    "spam[int(int('3'*2)/11)]"
   ]
  },
  {
   "cell_type": "markdown",
   "id": "86546d63",
   "metadata": {},
   "source": [
    "#### 4. What is the value of spam[-1]?\n",
    "- spam[-1] = Last value of list which is 'd'"
   ]
  },
  {
   "cell_type": "code",
   "execution_count": 4,
   "id": "6321eb73",
   "metadata": {},
   "outputs": [
    {
     "data": {
      "text/plain": [
       "'d'"
      ]
     },
     "execution_count": 4,
     "metadata": {},
     "output_type": "execute_result"
    }
   ],
   "source": [
    "spam[-1]"
   ]
  },
  {
   "cell_type": "markdown",
   "id": "fd69dcff",
   "metadata": {},
   "source": [
    "#### 5. What is the value of spam[:2]?\n",
    "- spam[:2] = 'a' and 'b'"
   ]
  },
  {
   "cell_type": "code",
   "execution_count": 5,
   "id": "e4cdba57",
   "metadata": {},
   "outputs": [
    {
     "data": {
      "text/plain": [
       "['a', 'b']"
      ]
     },
     "execution_count": 5,
     "metadata": {},
     "output_type": "execute_result"
    }
   ],
   "source": [
    "spam[:2]"
   ]
  },
  {
   "cell_type": "markdown",
   "id": "adc43bdd",
   "metadata": {},
   "source": [
    "### Let's pretend bacon has the list [3.14, 'cat,' 11, 'cat,' True] for the next three questions."
   ]
  },
  {
   "cell_type": "code",
   "execution_count": 6,
   "id": "19e123dd",
   "metadata": {},
   "outputs": [],
   "source": [
    "bacon = [3.14, 'cat', 11, 'cat', True]"
   ]
  },
  {
   "cell_type": "markdown",
   "id": "15e30aaa",
   "metadata": {},
   "source": [
    "#### 6. What is the value of bacon.index('cat')?\n",
    "- Ans: 1"
   ]
  },
  {
   "cell_type": "code",
   "execution_count": 7,
   "id": "ca0f59b6",
   "metadata": {},
   "outputs": [
    {
     "data": {
      "text/plain": [
       "1"
      ]
     },
     "execution_count": 7,
     "metadata": {},
     "output_type": "execute_result"
    }
   ],
   "source": [
    "bacon.index('cat')"
   ]
  },
  {
   "cell_type": "markdown",
   "id": "ee047c12",
   "metadata": {},
   "source": [
    "#### 7. How does bacon.append(99) change the look of the list value in bacon?\n",
    "- It will append 99 at the end of list bacon\n",
    "- [3.14, 'cat', 11, 'cat', True, 99]"
   ]
  },
  {
   "cell_type": "code",
   "execution_count": 8,
   "id": "78fd51bb",
   "metadata": {},
   "outputs": [
    {
     "name": "stdout",
     "output_type": "stream",
     "text": [
      "[3.14, 'cat', 11, 'cat', True, 99]\n"
     ]
    }
   ],
   "source": [
    "bacon.append(99)\n",
    "print(bacon)"
   ]
  },
  {
   "cell_type": "markdown",
   "id": "584a5661",
   "metadata": {},
   "source": [
    "#### 8. How does bacon.remove('cat') change the look of the list in bacon?\n",
    "- It will remove the first occurence of the 'cat'\n",
    "- [3.14, 11, 'cat', True, 99]"
   ]
  },
  {
   "cell_type": "code",
   "execution_count": 9,
   "id": "f4d60dd5",
   "metadata": {},
   "outputs": [
    {
     "name": "stdout",
     "output_type": "stream",
     "text": [
      "[3.14, 11, 'cat', True, 99]\n"
     ]
    }
   ],
   "source": [
    "bacon.remove('cat')\n",
    "print(bacon)"
   ]
  },
  {
   "cell_type": "markdown",
   "id": "89735e58",
   "metadata": {},
   "source": [
    "#### 9. What are the list concatenation and list replication operators?\n",
    "\n",
    "- List concatenation operator is ‘+’ \n",
    "- list replication operator is ‘*’"
   ]
  },
  {
   "cell_type": "markdown",
   "id": "a41f139a",
   "metadata": {},
   "source": [
    "#### 10. What is difference between the list methods append() and insert()?\n",
    "- Append method always appends the given object to the end of the list.\n",
    "- Insert method accepts two arguments, index at which the element needs to be inserted and the object to insert."
   ]
  },
  {
   "cell_type": "markdown",
   "id": "909a7bbc",
   "metadata": {},
   "source": [
    "#### 11. What are the two methods for removing items from a list?\n",
    "Two methods used for removing items from a list are:\n",
    "- List.remove() method delete values or object from the list using value\n",
    "- List.pop() deletes values or object from the list using an index."
   ]
  },
  {
   "cell_type": "markdown",
   "id": "cfdee7e0",
   "metadata": {},
   "source": [
    "#### 12. Describe how list values and string values are identical.\n",
    "- List is a collection of values in Python, string is a collection of characters. Both list and strings are iterable in Python and a for loop can be used around a list or string object to iterate through each element in the list/string."
   ]
  },
  {
   "cell_type": "markdown",
   "id": "4602fff2",
   "metadata": {},
   "source": [
    "#### 13. What's the difference between tuples and lists?\n",
    "- Tuples are immutable where as lists in Python are mutable. Once tuple created, the items inside a tuple cannot be changed."
   ]
  },
  {
   "cell_type": "markdown",
   "id": "a688c2d2",
   "metadata": {},
   "source": [
    "#### 14. How do you type a tuple value that only contains the integer 42?\n",
    "tup = (32,)"
   ]
  },
  {
   "cell_type": "code",
   "execution_count": 15,
   "id": "ee6703e7",
   "metadata": {},
   "outputs": [
    {
     "name": "stdout",
     "output_type": "stream",
     "text": [
      "(32,)\n"
     ]
    }
   ],
   "source": [
    "tup = (32,)\n",
    "print(tup)"
   ]
  },
  {
   "cell_type": "markdown",
   "id": "d6d8fc52",
   "metadata": {},
   "source": [
    "#### 15. How do you get a list value's tuple form? How do you get a tuple value's list form?\n",
    "we can perform this operations using type casting\n",
    "1. b = tuple([23, 33, 53])\n",
    "2. type(b)   # tuple\n",
    "3. c = list(b)\n",
    "4. type(c)  # list"
   ]
  },
  {
   "cell_type": "code",
   "execution_count": 1,
   "id": "326f450a",
   "metadata": {},
   "outputs": [
    {
     "name": "stdout",
     "output_type": "stream",
     "text": [
      "(3, 5, 7, 9)\n",
      "[3, 5, 7, 9]\n"
     ]
    }
   ],
   "source": [
    "b = tuple([3, 5, 7, 9])\n",
    "type(b)  # tuple\n",
    "c = list(b)\n",
    "type(c) # list\n",
    "print(b)\n",
    "print(c)"
   ]
  },
  {
   "cell_type": "markdown",
   "id": "700d145e",
   "metadata": {},
   "source": [
    "#### 16. Variables that \"contain\" list values are not necessarily lists themselves. Instead, what do they contain?\n",
    "They contain references to the list values"
   ]
  },
  {
   "cell_type": "code",
   "execution_count": 23,
   "id": "14cf1d94",
   "metadata": {},
   "outputs": [
    {
     "name": "stdout",
     "output_type": "stream",
     "text": [
      "[1, 2]\n",
      "2292865104960\n"
     ]
    }
   ],
   "source": [
    "var = [1,2]\n",
    "print(var)\n",
    "print(id(var))"
   ]
  },
  {
   "cell_type": "markdown",
   "id": "506cca8e",
   "metadata": {},
   "source": [
    "#### 17. How do you distinguish between copy.copy() and copy.deepcopy()?\n",
    "- copy() returns a shallow copy of list and deepcopy() return a deep copy of list.\n",
    "- deepcopy: In case of deep copy, a copy of object is copied in other object. It means that any changes made to a copy of object do not reflect in the original object.\n",
    "- shallow copy: In case of shallow copy, a reference of object is copied in other object. It means that any changes made to a copy of object do reflect in the original object."
   ]
  }
 ],
 "metadata": {
  "kernelspec": {
   "display_name": "Python 3 (ipykernel)",
   "language": "python",
   "name": "python3"
  },
  "language_info": {
   "codemirror_mode": {
    "name": "ipython",
    "version": 3
   },
   "file_extension": ".py",
   "mimetype": "text/x-python",
   "name": "python",
   "nbconvert_exporter": "python",
   "pygments_lexer": "ipython3",
   "version": "3.9.7"
  }
 },
 "nbformat": 4,
 "nbformat_minor": 5
}
